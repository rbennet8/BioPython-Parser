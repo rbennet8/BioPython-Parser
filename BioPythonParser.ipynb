{
 "cells": [
  {
   "cell_type": "markdown",
   "metadata": {},
   "source": [
    "## Step 1: Reads in and parses the file of apple primary transcripts "
   ]
  },
  {
   "cell_type": "code",
   "execution_count": 1,
   "metadata": {},
   "outputs": [
    {
     "name": "stdout",
     "output_type": "stream",
     "text": [
      "Number of transcripts:  62\n"
     ]
    }
   ],
   "source": [
    "# Robert Bennett - 2/24/2020\n",
    "# Programming 2 - BioPython Lab\n",
    "\n",
    "from Bio import SeqIO\n",
    "from Bio.Seq import Seq\n",
    "\n",
    "# Creating list to hold records\n",
    "dnaList = []\n",
    "# Iterating through the file, parsing through records, and saving sequences >= 126 to dnaList\n",
    "for record in SeqIO.parse(\"Mdomestica_491_v1.1.cds_primaryTranscriptOnly.fa\", \"fasta\"):\n",
    "    if len(record.seq) < 126:\n",
    "        dnaList.append(record)\n",
    "\n",
    "# Printing number of added transcripts\n",
    "print(\"Number of transcripts: \", len(dnaList))\n",
    "\n",
    "# Creating list to hold protein sequences\n",
    "proteinList = []\n",
    "# Iterating through dnaList and translating the seuqnces, adding them to proteinList\n",
    "for seq in dnaList:\n",
    "    proteinList.append(seq.translate())"
   ]
  },
  {
   "cell_type": "markdown",
   "metadata": {},
   "source": [
    "## Step 2: Aligns the small proteins using pairwise2\n",
    "    "
   ]
  },
  {
   "cell_type": "code",
   "execution_count": 2,
   "metadata": {
    "scrolled": false
   },
   "outputs": [
    {
     "name": "stdout",
     "output_type": "stream",
     "text": [
      "MNESWVFTTVQHAISNPNGKRQSLKLQPRSLLQSCMGKPL\n",
      "||||||||||||||||||||||||||||||||||||||||\n",
      "MNESWVFTTVQHAISNPNGKRQSLKLQPRSLLQSCMGKPL\n",
      "  Score=211\n",
      "\n"
     ]
    }
   ],
   "source": [
    "from Bio import pairwise2\n",
    "from Bio.SubsMat.MatrixInfo import blosum62\n",
    "import itertools\n",
    "\n",
    "# Creating list to hold alignments\n",
    "alignList = []\n",
    "# Using itertools to interate through each unique comparison within proteinList\n",
    "for a, b in itertools.combinations(proteinList, 2):\n",
    "    # Aligning the unique indexes and saving them to a temp variable\n",
    "    x = pairwise2.align.globalds(a.seq[0:-1], b.seq[0:-1], blosum62, -10, -0.5)\n",
    "    # Checking to see if the score of x is greater than 40 and saving the alignment if it is\n",
    "    if x[0][2] > 40:\n",
    "        alignList.append(x)\n",
    "\n",
    "# Iterating through the list and printing the formatted alignments saved from previous for loop\n",
    "for list in alignList:\n",
    "    for align in list:\n",
    "        print(pairwise2.format_alignment(*align))"
   ]
  },
  {
   "cell_type": "markdown",
   "metadata": {},
   "source": [
    "## Step 3: Runs BLAST and reads results"
   ]
  },
  {
   "cell_type": "code",
   "execution_count": 3,
   "metadata": {
    "scrolled": false
   },
   "outputs": [],
   "source": [
    "from Bio.Blast import NCBIWWW\n",
    "from Bio.Blast import NCBIXML\n",
    "\n",
    "# Choosing the protein to use\n",
    "protein = proteinList[3]\n",
    "\n",
    "# Getting the HSP from blast and reading the results\n",
    "result = NCBIWWW.qblast(\"blastp\", \"nr\", protein.seq)\n",
    "record = NCBIXML.read(result)"
   ]
  },
  {
   "cell_type": "code",
   "execution_count": 4,
   "metadata": {},
   "outputs": [
    {
     "name": "stdout",
     "output_type": "stream",
     "text": [
      "****Alignment****\n",
      "sequence: gb|KAB2632446.1| S ribonuclease [Pyrus ussuriensis x Pyrus communis]\n",
      "length: 808\n",
      "e value: 0.00940533\n",
      "LSAHGTSEIFSKNMGMFVRLCRSRWYIQTSHSSN...\n",
      "+ A    E FSKNM + +RLCR+RWYIQ S  SN...\n",
      "VGARAAVENFSKNMVVILRLCRARWYIQLSILSN...\n"
     ]
    }
   ],
   "source": [
    "# Setting the E value to parse with\n",
    "E_VALUE_THRESH = 0.05\n",
    "# Iterating through the alignments returned\n",
    "for alignment in record.alignments:\n",
    "    # Iterating through the high sequence pairs\n",
    "    for hsp in alignment.hsps:\n",
    "        # If the E value for the HSP is higher than the threshhold, print information about HSP\n",
    "        if hsp.expect < E_VALUE_THRESH:\n",
    "            print(\"****Alignment****\")\n",
    "            print(\"sequence:\", alignment.title)\n",
    "            print(\"length:\", alignment.length)\n",
    "            print(\"e value:\", hsp.expect)\n",
    "            print(hsp.query[0:75] + \"...\")\n",
    "            print(hsp.match[0:75] + \"...\")\n",
    "            print(hsp.sbjct[0:75] + \"...\")"
   ]
  },
  {
   "cell_type": "code",
   "execution_count": null,
   "metadata": {},
   "outputs": [],
   "source": []
  }
 ],
 "metadata": {
  "kernelspec": {
   "display_name": "Python 3",
   "language": "python",
   "name": "python3"
  },
  "language_info": {
   "codemirror_mode": {
    "name": "ipython",
    "version": 3
   },
   "file_extension": ".py",
   "mimetype": "text/x-python",
   "name": "python",
   "nbconvert_exporter": "python",
   "pygments_lexer": "ipython3",
   "version": "3.7.4"
  }
 },
 "nbformat": 4,
 "nbformat_minor": 2
}
